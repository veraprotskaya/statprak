{
  "nbformat": 4,
  "nbformat_minor": 0,
  "metadata": {
    "colab": {
      "provenance": []
    },
    "kernelspec": {
      "name": "python3",
      "display_name": "Python 3"
    },
    "language_info": {
      "name": "python"
    }
  },
  "cells": [
    {
      "cell_type": "markdown",
      "source": [
        "**Homework 1**"
      ],
      "metadata": {
        "id": "wNzC8PA5E1w9"
      }
    },
    {
      "cell_type": "markdown",
      "metadata": {
        "id": "sSos7q2_oBGj"
      },
      "source": [
        "## Problem 1"
      ]
    },
    {
      "cell_type": "markdown",
      "metadata": {
        "id": "NiX8ePp0oBGk"
      },
      "source": [
        "Make a tuple containing natural numbers, the square of which is a multiple of 3, 4, but not a multiple of 8 and not exceeding 12345."
      ]
    },
    {
      "cell_type": "code",
      "execution_count": 4,
      "metadata": {
        "id": "XmPHEnS9oBGk",
        "colab": {
          "base_uri": "https://localhost:8080/"
        },
        "outputId": "b4823dde-9dee-40b0-d812-e5dbe4242d02"
      },
      "outputs": [
        {
          "output_type": "stream",
          "name": "stdout",
          "text": [
            "(6, 18, 30, 42, 54, 66, 78, 90, 102)\n"
          ]
        }
      ],
      "source": [
        "t = tuple(x for x in range(1, 112) if x % 3 == 0 and x % 2 == 0 and x % 4 != 0)\n",
        "print(t)"
      ]
    },
    {
      "cell_type": "markdown",
      "metadata": {
        "id": "OZBeUyxcoBGk"
      },
      "source": [
        "## Problem 2"
      ]
    },
    {
      "cell_type": "markdown",
      "metadata": {
        "id": "zIfvg22noBGk"
      },
      "source": [
        "\n",
        "Write a function that takes a two-dimensional array and a string as input and returns an array rotated 90 degrees counterclockwise if the string 'left' was passed, and clockwise if the string 'right' was passed.\n",
        "\n",
        "Example for input: $\\begin{bmatrix} 1 & 2 & 3 \\\\ 4 & 5 & 6 \\\\ 7 & 8 & 9 \\end{bmatrix}$.\\\n",
        "If the string 'left' is passed, the function should return $\\begin{bmatrix} 3 & 6 & 9 \\\\ 2 & 5 & 8 \\\\ 1 & 4 & 7 \\end{bmatrix}$, and if the string 'right' is passed, the function should return $\\begin{bmatrix} 7 & 4 & 1 \\\\ 8 & 5 & 2 \\\\ 9 & 6 & 3 \\end{bmatrix}$."
      ]
    },
    {
      "cell_type": "code",
      "execution_count": null,
      "metadata": {
        "id": "HNvy_cRjoBGk",
        "colab": {
          "base_uri": "https://localhost:8080/"
        },
        "outputId": "67393df3-6904-4a1f-b86e-8d7ac4984b34"
      },
      "outputs": [
        {
          "output_type": "stream",
          "name": "stdout",
          "text": [
            "Choose: left or right left\n",
            "Resulting matrix:\n",
            "[3, 6, 9]\n",
            "[2, 5, 8]\n",
            "[1, 4, 7]\n"
          ]
        }
      ],
      "source": [
        "def rotate(matrix: list[list[float]], direction: str):\n",
        "    assert direction in (\"right\", \"left\"), \"Invalid direction\"\n",
        "    if direction == \"right\":\n",
        "        return [list(row) for row in zip(*matrix[::-1])]\n",
        "    else:\n",
        "              return [list(row) for row in zip(*matrix)][::-1]\n",
        "\n",
        "input = [[1,2,3],[4,5,6],[7,8,9]]\n",
        "print(\"Rotate right: \", rotate(input, \"right\"))\n",
        "print(\"Rotate left: \", rotate(input, \"left\"))"
      ]
    },
    {
      "cell_type": "markdown",
      "metadata": {
        "id": "_dY-PFlCoBGk"
      },
      "source": [
        "## Problem 3"
      ]
    },
    {
      "cell_type": "markdown",
      "metadata": {
        "id": "3CaIwcm0oBGk"
      },
      "source": [
        "Write a function that takes a string as input and returns a dictionary containing the number of occurrences of each character in the string.\n",
        "\n",
        "Example for the string 'hello, world!': {'h': 1, 'e': 1, 'l': 3, 'o': 2, ',': 1, ' ': 1, 'w': 1, 'r': 1, 'd': 1, '!': 1}."
      ]
    },
    {
      "cell_type": "code",
      "execution_count": null,
      "metadata": {
        "id": "rlSbHusZoBGk",
        "colab": {
          "base_uri": "https://localhost:8080/"
        },
        "outputId": "ae1a2e12-02e8-4dd2-b3b2-35c50b438efc"
      },
      "outputs": [
        {
          "output_type": "stream",
          "name": "stdout",
          "text": [
            "write your phrasehiiii\n",
            "{'h': 1, 'i': 4}\n"
          ]
        }
      ],
      "source": [
        "def count(string):\n",
        "    result={}\n",
        "    for i in string:\n",
        "        if i in result:\n",
        "            result[i]+=1\n",
        "        else:\n",
        "            result[i]=1\n",
        "    return result;\n",
        "phrase=input(\"write your phrase\")\n",
        "op=count(phrase)\n",
        "print(op)"
      ]
    },
    {
      "cell_type": "markdown",
      "metadata": {
        "id": "KBGJ7PeboBGk"
      },
      "source": [
        "## Problem 4"
      ]
    },
    {
      "cell_type": "markdown",
      "metadata": {
        "id": "XS4Seqa9oBGk"
      },
      "source": [
        "### Implementing a Library Management System\n",
        "\n",
        "#### Description\n",
        "\n",
        "You are required to design and implement a system for managing books and users in a library. The system should allow for the management of books (adding, deleting, searching by various criteria) and users (registration, deletion, searching), as well as tracking the history of interactions between them (issuing and returning books).\n",
        "\n",
        "#### Tasks\n",
        "\n",
        "1. **`Book` Class**:\n",
        "   - Attributes: title, author, year of publication, ISBN, number of copies.\n",
        "   - Methods: constructor, methods to get information about the book, method to change the number of copies (when issuing and returning books).\n",
        "\n",
        "2. **`User` Class**:\n",
        "   - Attributes: user name, library card number, list of borrowed books.\n",
        "   - Methods: constructor, methods for user registration, methods for adding and removing books from the borrowed list.\n",
        "\n",
        "3. **`Library` Class**:\n",
        "   - Attributes: list of books, list of users, transaction history (who, when, which book was borrowed and returned).\n",
        "   - Methods: constructor, methods for adding and deleting books and users, methods for issuing and returning books, searching for books and users by various criteria, method to display the transaction history.\n",
        "\n",
        "#### Assignment\n",
        "\n",
        "1. Implement the `Book`, `User`, and `Library` classes with the specified attributes and methods.\n",
        "2. Create several books and users, and add them to the library system.\n",
        "3. Implement scenarios for issuing books to users and their return.\n",
        "4. Display the transaction history to show how books were issued and returned.\n"
      ]
    },
    {
      "cell_type": "code",
      "execution_count": null,
      "metadata": {
        "id": "IbqwtWWsoBGl",
        "colab": {
          "base_uri": "https://localhost:8080/"
        },
        "outputId": "1a45114a-4e40-4e8a-9196-24aef80fb5ee"
      },
      "outputs": [
        {
          "output_type": "stream",
          "name": "stdout",
          "text": [
            "User Vera registered with card number 001.\n",
            "User Varya registered with card number 002.\n",
            "Book 'Numbers' by Victor Pelevin issued to Vera.\n",
            "Book 'Ice Trilogy' by Vladimir Sorokin issued to Varya.\n"
          ]
        }
      ],
      "source": [
        "class Book:\n",
        "    def __init__(self, title, author, year, isbn, copies):\n",
        "        self.title = title\n",
        "        self.author = author\n",
        "        self.year = year\n",
        "        self.isbn = isbn\n",
        "        self.copies = copies\n",
        "\n",
        "    def get_info(self):\n",
        "        return f\"Title: {self.title}, Author: {self.author}, Year: {self.year}, ISBN: {self.isbn}, Copies: {self.copies}\"\n",
        "\n",
        "    def change_copies(self, amount):\n",
        "        self.copies += amount\n",
        "\n",
        "\n",
        "class User:\n",
        "    def __init__(self, username, library_card_number):\n",
        "        self.username = username\n",
        "        self.library_card_number = library_card_number\n",
        "        self.borrowed_books = []\n",
        "\n",
        "    def register(self):\n",
        "        return f\"User {self.username} registered with card number {self.library_card_number}.\"\n",
        "\n",
        "    def add_book(self, book):\n",
        "        self.borrowed_books.append(book)\n",
        "\n",
        "    def remove_book(self, book):\n",
        "        if book in self.borrowed_books:\n",
        "            self.borrowed_books.remove(book)\n",
        "\n",
        "    def get_borrowed_books(self):\n",
        "        return [book.title for book in self.borrowed_books]\n",
        "\n",
        "\n",
        "class Library:\n",
        "    def __init__(self):\n",
        "        self.books = []\n",
        "        self.users = []\n",
        "        self.transaction_history = []\n",
        "\n",
        "    def add_book(self, book):\n",
        "        self.books.append(book)\n",
        "\n",
        "    def delete_book(self, isbn):\n",
        "        self.books = [book for book in self.books if book.isbn != isbn]\n",
        "\n",
        "    def add_user(self, user):\n",
        "        self.users.append(user)\n",
        "\n",
        "    def delete_user(self, library_card_number):\n",
        "        self.users = [user for user in self.users if user.library_card_number != library_card_number]\n",
        "\n",
        "    def issue_book(self, user, book):\n",
        "        if book in self.books and book.copies > 0:\n",
        "            user.add_book(book)\n",
        "            book.change_copies(-1)\n",
        "            self.transaction_history.append(f\"{user.username} borrowed '{book.title}'\")\n",
        "            return f\"Book '{book.title}' by {book.author} issued to {user.username}.\"\n",
        "        else:\n",
        "            return \"Book not available.\"\n",
        "\n",
        "    def return_book(self, user, book):\n",
        "        if book in user.borrowed_books:\n",
        "            user.remove_book(book)\n",
        "            book.change_copies(1)\n",
        "            self.transaction_history.append(f\"{user.username} returned '{book.title}'\")\n",
        "            return f\"Book '{book.title}' returned by {user.username}.\"\n",
        "        else:\n",
        "            return \"This user has not borrowed this book.\"\n",
        "\n",
        "    def search_books(self, title=None, author=None):\n",
        "        results = []\n",
        "        for book in self.books:\n",
        "            if (title and title.lower() in book.title.lower()) or (author and author.lower() in book.author.lower()):\n",
        "                results.append(book.get_info())\n",
        "        return results\n",
        "\n",
        "    def search_users(self, username=None):\n",
        "        results = []\n",
        "        for user in self.users:\n",
        "            if username and username.lower() in user.username.lower():\n",
        "                results.append(user.username)\n",
        "        return results\n",
        "\n",
        "    def display_transaction_history(self):\n",
        "        return \"\\n\".join(self.transaction_history)\n",
        "\n",
        "\n",
        "\n",
        "if __name__ == \"__main__\":\n",
        "    library = Library()\n",
        "    book1 = Book(\"Ice Trilogy\", \"Vladimir Sorokin\", 2005, \"9781590173862\", 33)\n",
        "    book2 = Book(\"It's Me, Eddie\", \"Eduard Limonov\", 1991, \"9780394530642\", 50)\n",
        "    book3 = Book(\"Numbers\", \"Victor Pelevin\", 2003, \"9780061120084\", 34)\n",
        "\n",
        "    library.add_book(book1)\n",
        "    library.add_book(book2)\n",
        "    library.add_book(book3)\n",
        "\n",
        "    user1 = User(\"Vera\", \"001\")\n",
        "    user2 = User(\"Varya\", \"002\")\n",
        "\n",
        "    print(user1.register())\n",
        "    print(user2.register())\n",
        "\n",
        "    library.add_user(user1)\n",
        "    library.add_user(user2)\n",
        "\n",
        "    print(library.issue_book(user1, book3))\n",
        "    print(library.issue_book(user2, book1))\n",
        "\n",
        "\n"
      ]
    },
    {
      "cell_type": "markdown",
      "metadata": {
        "id": "0c8zRbSIoBGl"
      },
      "source": [
        "## Problem 5*"
      ]
    },
    {
      "cell_type": "markdown",
      "metadata": {
        "id": "8ltdzRmOoBGl"
      },
      "source": [
        "Explain why list `b` changes after the execution of the following code:\n",
        "\n",
        "```python\n",
        "a = [1, 2, 3]\n",
        "b = a\n",
        "a[0] = 4\n",
        "print(b)\n",
        "```"
      ]
    },
    {
      "cell_type": "markdown",
      "metadata": {
        "id": "RxgnUfFPoBGl"
      },
      "source": [
        "> Write your answer in markdown cell after:"
      ]
    },
    {
      "cell_type": "markdown",
      "metadata": {
        "id": "Mb-amOX5oBGl"
      },
      "source": [
        "потому что строчка b=a означает, что теперь и а и b указывают на одно и то же. когда мы меняем то, на что \"ссылается\" а, то мы меняем и то, на что \"ссылается\" b."
      ]
    },
    {
      "cell_type": "markdown",
      "metadata": {
        "id": "TmXLkc_foBGl"
      },
      "source": [
        "## Problem 6*"
      ]
    },
    {
      "cell_type": "markdown",
      "metadata": {
        "id": "Gn0ibiVCoBGl"
      },
      "source": [
        "Let\n",
        "$$A = \\sum_{i=1}^{10000} \\frac{1}{i^2},\\quad B=\\sum_{i=10000}^{1} \\frac{1}{i^2}.$$\n",
        "Calculate the values of $A$ and $B$ and compare them. What do you observe? Explain why this happens. What is the best way to calculate the value of $\\sum\\limits_{i=1}^{10000} \\dfrac{1}{i^2}$?"
      ]
    },
    {
      "cell_type": "code",
      "execution_count": null,
      "metadata": {
        "id": "3q93uGqFoBGl",
        "colab": {
          "base_uri": "https://localhost:8080/"
        },
        "outputId": "0355f062-7aa1-4db4-8a91-2181b5828f22"
      },
      "outputs": [
        {
          "output_type": "stream",
          "name": "stdout",
          "text": [
            "from 1 to 10001:  1.6448340718480652 and from 10001 to 1: 1.6448340718480596\n"
          ]
        }
      ],
      "source": [
        "norm = sum(1 / i ** 2 for i in range(1, 10001))\n",
        "reverse = sum(1 / i ** 2 for i in reversed(range(1, 10001)))\n",
        "print(\"from 1 to 10001: \",norm,\"and from 10001 to 1:\",reverse)"
      ]
    },
    {
      "cell_type": "markdown",
      "source": [
        "разница появляется засчет того, что эти числа представляются в виде чисел с плавающей точкой. в таком видео представления чисел являются приблизительными представлениями точного числа, так как не все числа могут быть представлены с полной точностью. по умолчанию числа округляются в зависимости от модуля числа (важно у какого из слагаемых он больше). соотвественно, нужно, чтобы переменная, накапливающая сумму была наименьшей из всевозможных вариантов в любой момент времени, т.е. сложение нужно проихводить по возрастанию модулей. вопрос заключается в том, как лучше всего посчитать сумму 1/i^2? поскольку модуль 1/i^2 меньше при максимальном i-->**лучше считать от 10000 до 1.**"
      ],
      "metadata": {
        "id": "8Y5CcETVK3IA"
      }
    }
  ]
}
